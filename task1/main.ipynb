{
 "cells": [
  {
   "cell_type": "code",
   "execution_count": 19,
   "metadata": {},
   "outputs": [],
   "source": [
    "import csv\n",
    "from decimal import *\n",
    "import datetime\n",
    "from itertools import groupby"
   ]
  },
  {
   "cell_type": "markdown",
   "metadata": {},
   "source": [
    "# Objective 1"
   ]
  },
  {
   "cell_type": "code",
   "execution_count": 20,
   "metadata": {},
   "outputs": [],
   "source": [
    "input = open('./input.csv')"
   ]
  },
  {
   "cell_type": "code",
   "execution_count": 21,
   "metadata": {},
   "outputs": [],
   "source": [
    "csvin = csv.reader(input, delimiter=',', quotechar='\"', skipinitialspace=True)"
   ]
  },
  {
   "cell_type": "code",
   "execution_count": 22,
   "metadata": {},
   "outputs": [],
   "source": [
    "data = [row for row in csvin]"
   ]
  },
  {
   "cell_type": "code",
   "execution_count": 23,
   "metadata": {},
   "outputs": [],
   "source": [
    "header = data.pop(0)"
   ]
  },
  {
   "cell_type": "code",
   "execution_count": null,
   "metadata": {},
   "outputs": [],
   "source": [
    "#data.pop(0) # <-- this line was left there by accident; commenting it out"
   ]
  },
  {
   "cell_type": "code",
   "execution_count": 24,
   "metadata": {},
   "outputs": [],
   "source": [
    "table = list()"
   ]
  },
  {
   "cell_type": "code",
   "execution_count": 25,
   "metadata": {},
   "outputs": [],
   "source": [
    "for row in data:\n",
    "  rowdict = dict(zip(header, row))\n",
    "  rowdict['User ID'] = int(rowdict['User ID'])\n",
    "  rowdict['Product'] = rowdict['Product'].strip()\n",
    "  rowdict['Quantity'] = Decimal(rowdict['Quantity'])\n",
    "  rowdict['Unit Price'] = Decimal(rowdict['Unit Price'])\n",
    "  year, month, day = rowdict['Date'].split(sep='-')\n",
    "  rowdict['Date'] = datetime.date(year=int(year), month=int(month), day=int(day))\n",
    "  table.append(rowdict)"
   ]
  },
  {
   "cell_type": "code",
   "execution_count": 26,
   "metadata": {},
   "outputs": [],
   "source": [
    "user_lowest_id = min([row['User ID'] for row in table])"
   ]
  },
  {
   "cell_type": "code",
   "execution_count": 27,
   "metadata": {},
   "outputs": [],
   "source": [
    "values = [row['Quantity'] for row in table if row['User ID'] == user_lowest_id]"
   ]
  },
  {
   "cell_type": "code",
   "execution_count": 28,
   "metadata": {},
   "outputs": [],
   "source": [
    "avg = sum(values) / len(values)"
   ]
  },
  {
   "cell_type": "code",
   "execution_count": 29,
   "metadata": {},
   "outputs": [],
   "source": [
    "f1 = open('average_quantity.txt', 'w+')\n",
    "f1.write(f\"{user_lowest_id}, {avg:.0f}\")\n",
    "f1.close()"
   ]
  },
  {
   "cell_type": "markdown",
   "metadata": {},
   "source": [
    "# Objective 2"
   ]
  },
  {
   "cell_type": "code",
   "execution_count": null,
   "metadata": {},
   "outputs": [],
   "source": [
    "revenues_by_date = dict()"
   ]
  },
  {
   "cell_type": "code",
   "execution_count": null,
   "metadata": {},
   "outputs": [],
   "source": [
    "for date, rows in groupby(sorted(table, key=lambda k: k['Date'], reverse=True), lambda x: x['Date']):\n",
    "  revenues_by_product = dict()\n",
    "  for product, rows in groupby(rows, lambda row: row['Product']):\n",
    "    for row in rows:\n",
    "      if product not in revenues_by_product.keys():\n",
    "        revenues_by_product[product] = row['Unit Price'] * row['Quantity']\n",
    "      else:\n",
    "        revenues_by_product[product] = revenues_by_product[product] + row['Unit Price'] * row['Quantity']\n",
    "      revenues_by_date[date] = revenues_by_product"
   ]
  },
  {
   "cell_type": "code",
   "execution_count": null,
   "metadata": {},
   "outputs": [],
   "source": [
    "f2 = open('top_products.txt', 'w+')"
   ]
  },
  {
   "cell_type": "code",
   "execution_count": null,
   "metadata": {},
   "outputs": [],
   "source": [
    "for row in revenues_by_date.keys():\n",
    "  new_out = {}\n",
    "  for date, revenues in revenues_by_date.items():\n",
    "    new_max = 0\n",
    "    which_product = list(revenues.keys())[0]\n",
    "    for product, revenue in revenues.items():\n",
    "      if revenue > new_max:\n",
    "        new_max = revenue\n",
    "        which_product = product\n",
    "    new_out[date] = (which_product, new_max)"
   ]
  },
  {
   "cell_type": "code",
   "execution_count": null,
   "metadata": {},
   "outputs": [],
   "source": [
    "f2 = open('top_products.txt', 'w+')\n",
    "for key, values in new_out.items():\n",
    "  f2.write(f\"{key}, {values[0]}, {values[1]:.2f}\\n\")\n",
    "f2.close()"
   ]
  }
 ],
 "metadata": {
  "interpreter": {
   "hash": "aee8b7b246df8f9039afb4144a1f6fd8d2ca17a180786b69acc140d282b71a49"
  },
  "kernelspec": {
   "display_name": "Python_USB_Kernel",
   "language": "python",
   "name": "pydev"
  },
  "language_info": {
   "codemirror_mode": {
    "name": "ipython",
    "version": 3
   },
   "file_extension": ".py",
   "mimetype": "text/x-python",
   "name": "python",
   "nbconvert_exporter": "python",
   "pygments_lexer": "ipython3",
   "version": "3.9.5"
  },
  "orig_nbformat": 4
 },
 "nbformat": 4,
 "nbformat_minor": 2
}
